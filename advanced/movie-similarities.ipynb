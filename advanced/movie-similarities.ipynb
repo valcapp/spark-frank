{
 "cells": [
  {
   "cell_type": "code",
   "execution_count": 45,
   "metadata": {},
   "outputs": [],
   "source": [
    "from pyspark.sql import SparkSession, DataFrame\n",
    "from pyspark.sql import functions as sf\n",
    "from pyspark.sql.types import StructType, StructField, StringType, IntegerType, LongType\n",
    "import argparse\n",
    "import os"
   ]
  },
  {
   "cell_type": "code",
   "execution_count": 46,
   "metadata": {},
   "outputs": [],
   "source": [
    "# def parse_args() -> None:\n",
    "#     parser = argparse.ArgumentParser(\n",
    "#         prog='movie-recommendations',\n",
    "#         description='Suggest 10 movie recommendations based on similarity to movieID argument')\n",
    "#     parser.add_argument(\n",
    "#         'movieID', type=int,\n",
    "#         help='movieID integer to base recommendations on')\n",
    "#     return parser.parse_args()\n",
    "\n",
    "def getMovieNames(spark: SparkSession, resource_path: str) -> DataFrame:\n",
    "    movieNamesSchema = StructType([ \n",
    "        StructField(\"movieID\", IntegerType(), True),\n",
    "        StructField(\"movieTitle\", StringType(), True)\n",
    "    ])\n",
    "    return \\\n",
    "        spark.read\\\n",
    "            .option('sep', '|')\\\n",
    "            .option('charset', 'ISO-8859-1')\\\n",
    "            .schema(movieNamesSchema)\\\n",
    "            .csv(resource_path)\n",
    "\n",
    "def getMovies(spark: SparkSession, resource_path: str) -> DataFrame:\n",
    "    moviesSchema = StructType([\n",
    "        StructField(\"userID\", IntegerType(), True),\n",
    "        StructField(\"movieID\", IntegerType(), True),\n",
    "        StructField(\"rating\", IntegerType(), True),\n",
    "        StructField(\"timestamp\", LongType(), True)\n",
    "    ])\n",
    "    return \\\n",
    "        spark.read\\\n",
    "            .option('sep', '\\t')\\\n",
    "            .schema(moviesSchema)\\\n",
    "            .csv(resource_path)\n"
   ]
  },
  {
   "cell_type": "code",
   "execution_count": 47,
   "metadata": {},
   "outputs": [],
   "source": [
    "movieID = 50\n",
    "spark = SparkSession.builder.appName(\"MovieRecommendations\").master(\"local[*]\").getOrCreate()\n",
    "pwd = os.path.abspath('')\n",
    "movieNames = getMovieNames(spark, f\"file:///{pwd}/../data/ml-100k/u.item\")\n",
    "movies = getMovies(spark, f\"file:///{pwd}/../data/ml-100k/u.data\")\n",
    "ratings = movies.select('userID', 'movieID', 'rating')"
   ]
  },
  {
   "cell_type": "code",
   "execution_count": 48,
   "metadata": {},
   "outputs": [
    {
     "name": "stdout",
     "output_type": "stream",
     "text": [
      "Calculating recommendations for movie: 'Star Wars (1977)'\n"
     ]
    }
   ],
   "source": [
    "def getMovieName(movieNames: DataFrame, movieID: int) -> str:\n",
    "    return \\\n",
    "        movieNames.where(sf.col(\"movieID\") == movieID)\\\n",
    "            .first()['movieTitle']\n",
    "\n",
    "movieName = getMovieName(movieNames, movieID)\n",
    "print(f\"Calculating recommendations for movie: '{movieName}'\")"
   ]
  },
  {
   "cell_type": "code",
   "execution_count": 6,
   "metadata": {},
   "outputs": [
    {
     "name": "stdout",
     "output_type": "stream",
     "text": [
      "root\n",
      " |-- userID: integer (nullable = true)\n",
      " |-- movieID: integer (nullable = true)\n",
      " |-- rating: integer (nullable = true)\n",
      "\n",
      "+------+-------+------+\n",
      "|userID|movieID|rating|\n",
      "+------+-------+------+\n",
      "|   196|    242|     3|\n",
      "|   186|    302|     3|\n",
      "|    22|    377|     1|\n",
      "|   244|     51|     2|\n",
      "|   166|    346|     1|\n",
      "+------+-------+------+\n",
      "only showing top 5 rows\n",
      "\n"
     ]
    }
   ],
   "source": [
    "ratings.printSchema()\n",
    "ratings.show(5)"
   ]
  },
  {
   "cell_type": "code",
   "execution_count": 15,
   "metadata": {},
   "outputs": [
    {
     "name": "stdout",
     "output_type": "stream",
     "text": [
      "root\n",
      " |-- movie_x: integer (nullable = true)\n",
      " |-- rating_x: integer (nullable = true)\n",
      " |-- movie_y: integer (nullable = true)\n",
      " |-- rating_y: integer (nullable = true)\n",
      "\n",
      "+-------+--------+-------+--------+\n",
      "|movie_x|rating_x|movie_y|rating_y|\n",
      "+-------+--------+-------+--------+\n",
      "|    242|       3|    269|       3|\n",
      "|    242|       3|    845|       4|\n",
      "|    242|       3|   1022|       4|\n",
      "|    242|       3|    762|       3|\n",
      "|    242|       3|    411|       4|\n",
      "|    242|       3|   1007|       4|\n",
      "|    242|       3|   1241|       3|\n",
      "|    242|       3|    285|       5|\n",
      "|    242|       3|    382|       4|\n",
      "|    242|       3|    287|       3|\n",
      "+-------+--------+-------+--------+\n",
      "only showing top 10 rows\n",
      "\n"
     ]
    }
   ],
   "source": [
    "def getMoviePairs(ratings: DataFrame) -> DataFrame:\n",
    "    joined = ratings.alias('x')\\\n",
    "        .join(ratings.alias('y'), on=(\n",
    "            (sf.col('x.userID') == sf.col('y.userID'))\n",
    "            & (sf.col('x.movieID') < sf.col('y.movieID'))\n",
    "        ))\\\n",
    "        .select(\n",
    "            # x\n",
    "            sf.col('x.movieID').alias('movie_x'),\n",
    "            sf.col('x.rating').alias('rating_x'),\n",
    "            # y\n",
    "            sf.col('y.movieID').alias('movie_y'),\n",
    "            sf.col('y.rating').alias('rating_y'),\n",
    "        )\n",
    "    return joined\n",
    "\n",
    "moviePairs = getMoviePairs(ratings)\n",
    "moviePairs.printSchema()\n",
    "moviePairs.show(10)"
   ]
  },
  {
   "cell_type": "code",
   "execution_count": 40,
   "metadata": {},
   "outputs": [
    {
     "name": "stdout",
     "output_type": "stream",
     "text": [
      "root\n",
      " |-- movie_x: integer (nullable = true)\n",
      " |-- movie_y: integer (nullable = true)\n",
      " |-- score: double (nullable = true)\n",
      " |-- coOccurrence: long (nullable = false)\n",
      "\n",
      "+-------+-------+------------------+------------+\n",
      "|movie_x|movie_y|             score|coOccurrence|\n",
      "+-------+-------+------------------+------------+\n",
      "|     51|    924|0.9465030160396292|          15|\n",
      "|    451|    529|0.8700048504395461|          30|\n",
      "|     86|    318|0.9562989269248869|          95|\n",
      "|     40|    167|0.9488483124502475|          23|\n",
      "|    274|   1211|0.9799118698777318|           7|\n",
      "+-------+-------+------------------+------------+\n",
      "only showing top 5 rows\n",
      "\n"
     ]
    }
   ],
   "source": [
    "from itertools import combinations_with_replacement\n",
    "def cosineSimilarity(pairs: DataFrame) -> DataFrame:\n",
    "    scores = pairs\n",
    "    for i, j in combinations_with_replacement('xy', 2):\n",
    "        scores = scores.withColumn(i+j, sf.col(f\"rating_{i}\") * sf.col(f\"rating_{j}\"))\n",
    "    similarity = scores\\\n",
    "        .groupBy('movie_x', 'movie_y')\\\n",
    "        .agg(\n",
    "            sf.sum('xy')\\\n",
    "                .alias('numerator'),\n",
    "            (sf.sqrt(sf.sum('xx')) * sf.sqrt(sf.sum('yy')))\\\n",
    "                .alias('denominator'),\n",
    "            sf.count('xy')\\\n",
    "                .alias('coOccurrence')\n",
    "        )\\\n",
    "        .select(\n",
    "            'movie_x', 'movie_y',\n",
    "            sf.when(\n",
    "                sf.col('denominator')!=0, \n",
    "                sf.col('numerator')/sf.col('denominator')\n",
    "            ).alias('score'),\n",
    "            'coOccurrence'\n",
    "        )\n",
    "    return similarity\n",
    "\n",
    "similarity = cosineSimilarity(moviePairs)\n",
    "similarity.printSchema()\n",
    "similarity.show(5)"
   ]
  },
  {
   "cell_type": "code",
   "execution_count": 44,
   "metadata": {},
   "outputs": [
    {
     "name": "stdout",
     "output_type": "stream",
     "text": [
      "+-------+-----+--------+-------------------------+\n",
      "|movieID|score|strength|movieTitle               |\n",
      "+-------+-----+--------+-------------------------+\n",
      "|480    |0.972|101     |North by Northwest (1959)|\n",
      "+-------+-----+--------+-------------------------+\n",
      "\n"
     ]
    }
   ],
   "source": [
    "def getTopSimilarTo(similarity: DataFrame,\n",
    "                movieID: int, limit: int = 10\n",
    "                ) -> DataFrame:\n",
    "    scoreThreshold = .97\n",
    "    coOccurrenceThreshold = 50.0\n",
    "    topSimilar = similarity\\\n",
    "        .where(\n",
    "            (\n",
    "                (sf.col('movie_x')==movieID)\n",
    "                | (sf.col('movie_y')==movieID)\n",
    "            )\n",
    "            & (sf.col('score') > scoreThreshold)\n",
    "            & (sf.col('coOccurrence') > coOccurrenceThreshold)\n",
    "        )\\\n",
    "        .sort('score', ascending=False)\\\n",
    "        .limit(limit)\\\n",
    "        .select(\n",
    "            sf.when(sf.col('movie_x') != movieID,\n",
    "                    sf.col('movie_x')\n",
    "                ).otherwise(sf.col('movie_y'))\\\n",
    "                .alias('movieID'),\n",
    "            sf.round('score', 3).alias('score'),\n",
    "            sf.col('coOccurrence').alias('strength')\n",
    "        )\n",
    "    return topSimilar\n",
    "\n",
    "starWarsSimilar = getTopSimilarTo(similarity, movieID)\\\n",
    "    .join(movieNames, on='movieID').sort('score', ascending=False)\n",
    "\n",
    "starWarsSimilar.show(truncate=False)"
   ]
  },
  {
   "cell_type": "code",
   "execution_count": null,
   "metadata": {},
   "outputs": [],
   "source": [
    "\n"
   ]
  }
 ],
 "metadata": {
  "interpreter": {
   "hash": "a691c954e455b59e9eca8d8310234eae5f9ba2125f4627db7e62764b4671cef3"
  },
  "kernelspec": {
   "display_name": "Python 3.9.1 64-bit ('spark-_Kvxx3OO': pipenv)",
   "language": "python",
   "name": "python3"
  },
  "language_info": {
   "codemirror_mode": {
    "name": "ipython",
    "version": 3
   },
   "file_extension": ".py",
   "mimetype": "text/x-python",
   "name": "python",
   "nbconvert_exporter": "python",
   "pygments_lexer": "ipython3",
   "version": "3.9.1"
  },
  "orig_nbformat": 4
 },
 "nbformat": 4,
 "nbformat_minor": 2
}
