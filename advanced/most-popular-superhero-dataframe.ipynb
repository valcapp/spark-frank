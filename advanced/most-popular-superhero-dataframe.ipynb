{
 "cells": [
  {
   "cell_type": "code",
   "execution_count": 1,
   "metadata": {},
   "outputs": [],
   "source": [
    "from pyspark.sql import SparkSession\n",
    "from pyspark.sql import functions as sf\n",
    "from pyspark.sql.types import StructType, StructField, IntegerType, StringType\n",
    "\n",
    "spark = SparkSession.builder.appName('SuperheroPopstar').getOrCreate()"
   ]
  },
  {
   "cell_type": "code",
   "execution_count": 2,
   "metadata": {},
   "outputs": [],
   "source": [
    "import os\n",
    "pwd = os.path.abspath('')\n",
    "\n",
    "names = spark.read.option(\"sep\", \" \").schema(StructType([\n",
    "    StructField(\"id\", IntegerType(), True),\n",
    "    StructField(\"name\", StringType(), True),\n",
    "])).csv(f\"file:///{pwd}/../data/Marvel-names.txt\")\n",
    "\n",
    "lines = spark.read.text(f\"file:///{pwd}/../data/Marvel-graph.txt\")"
   ]
  },
  {
   "cell_type": "code",
   "execution_count": 3,
   "metadata": {},
   "outputs": [
    {
     "name": "stdout",
     "output_type": "stream",
     "text": [
      "+---+--------------------+\n",
      "| id|                name|\n",
      "+---+--------------------+\n",
      "|  1|24-HOUR MAN/EMMANUEL|\n",
      "|  2|3-D MAN/CHARLES CHAN|\n",
      "|  3|    4-D MAN/MERCURIO|\n",
      "|  4|             8-BALL/|\n",
      "|  5|                   A|\n",
      "+---+--------------------+\n",
      "only showing top 5 rows\n",
      "\n",
      "+--------------------+\n",
      "|               value|\n",
      "+--------------------+\n",
      "|5988 748 1722 375...|\n",
      "|5989 4080 4264 44...|\n",
      "|5982 217 595 1194...|\n",
      "|5983 1165 3836 43...|\n",
      "|5980 2731 3712 15...|\n",
      "+--------------------+\n",
      "only showing top 5 rows\n",
      "\n"
     ]
    }
   ],
   "source": [
    "names.show(5)\n",
    "lines.show(5)"
   ]
  },
  {
   "cell_type": "code",
   "execution_count": 13,
   "metadata": {},
   "outputs": [],
   "source": [
    "herosPopularity = lines\\\n",
    "    .withColumn(\n",
    "        'heros', sf.split(sf.trim(sf.col('value')), pattern=' ')\n",
    "    ).withColumn(\n",
    "        'id', sf.col('heros')[0]\n",
    "    ).withColumn(\n",
    "        'connections', sf.size(sf.col('heros')) - 1\n",
    "    ).groupBy('id').agg(\n",
    "        sf.sum('connections').alias('connections')\n",
    "    ).sort('connections', ascending=False)"
   ]
  },
  {
   "cell_type": "code",
   "execution_count": 17,
   "metadata": {},
   "outputs": [
    {
     "data": {
      "text/plain": [
       "Row(id='859', connections=1933)"
      ]
     },
     "execution_count": 17,
     "metadata": {},
     "output_type": "execute_result"
    }
   ],
   "source": [
    "popstar = herosPopularity.first()\n",
    "popstar"
   ]
  },
  {
   "cell_type": "code",
   "execution_count": 18,
   "metadata": {},
   "outputs": [
    {
     "name": "stdout",
     "output_type": "stream",
     "text": [
      "CAPTAIN AMERICA is the most popular superhero with 1933 co-appearances.\n"
     ]
    }
   ],
   "source": [
    "popstarName = names\\\n",
    "    .where(sf.col('id')==popstar.id)\\\n",
    "    .first()['name']\n",
    "\n",
    "print(f\"{popstarName} is the most popular superhero with {popstar.connections} co-appearances.\")\n"
   ]
  },
  {
   "cell_type": "code",
   "execution_count": 35,
   "metadata": {},
   "outputs": [
    {
     "data": {
      "text/plain": [
       "0"
      ]
     },
     "execution_count": 35,
     "metadata": {},
     "output_type": "execute_result"
    }
   ],
   "source": [
    "minConnections = herosPopularity\\\n",
    "    .agg({'connections': 'min'})\\\n",
    "    .first()['min(connections)']\n",
    "minConnections"
   ]
  },
  {
   "cell_type": "code",
   "execution_count": 38,
   "metadata": {},
   "outputs": [
    {
     "name": "stdout",
     "output_type": "stream",
     "text": [
      "The most obscure heros (with 0 connections) are:\n",
      "   * BERSERKER II\n",
      "   * BLARE/\n",
      "   * MARVEL BOY II/MARTIN\n",
      "   * MARVEL BOY/MARTIN BU\n",
      "   * GIURESCU, RADU\n",
      "   * CLUMSY FOULUP\n",
      "   * FENRIS\n",
      "   * RANDAK\n",
      "   * SHARKSKIN\n",
      "   * CALLAHAN, DANNY\n",
      "   * DEATHCHARGE\n",
      "   * RUNE\n",
      "   * SEA LEOPARD\n",
      "   * RED WOLF II\n",
      "   * ZANTOR\n",
      "   * JOHNSON, LYNDON BAIN\n",
      "   * LUNATIK II\n",
      "   * KULL\n",
      "   * GERVASE, LADY ALYSSA\n"
     ]
    }
   ],
   "source": [
    "\n",
    "obscureHeros = herosPopularity\\\n",
    "    .where(sf.col('connections')==minConnections)\\\n",
    "    .join(names, on='id')\\\n",
    "    .collect()\n",
    "\n",
    "print(\n",
    "    f'The most obscure heros (with {minConnections} connections) are:'\n",
    "    + ''.join(f'\\n   * {hero.name}' for hero in obscureHeros)\n",
    ")"
   ]
  },
  {
   "cell_type": "code",
   "execution_count": 40,
   "metadata": {},
   "outputs": [],
   "source": [
    "# spark.stop()"
   ]
  },
  {
   "cell_type": "code",
   "execution_count": null,
   "metadata": {},
   "outputs": [],
   "source": []
  }
 ],
 "metadata": {
  "interpreter": {
   "hash": "a691c954e455b59e9eca8d8310234eae5f9ba2125f4627db7e62764b4671cef3"
  },
  "kernelspec": {
   "display_name": "Python 3.9.1 64-bit ('spark-_Kvxx3OO': pipenv)",
   "language": "python",
   "name": "python3"
  },
  "language_info": {
   "codemirror_mode": {
    "name": "ipython",
    "version": 3
   },
   "file_extension": ".py",
   "mimetype": "text/x-python",
   "name": "python",
   "nbconvert_exporter": "python",
   "pygments_lexer": "ipython3",
   "version": "3.9.1"
  },
  "orig_nbformat": 4
 },
 "nbformat": 4,
 "nbformat_minor": 2
}
